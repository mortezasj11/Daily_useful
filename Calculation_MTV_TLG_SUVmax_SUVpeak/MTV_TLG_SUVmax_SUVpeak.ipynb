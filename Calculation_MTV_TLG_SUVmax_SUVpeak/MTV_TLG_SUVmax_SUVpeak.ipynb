{
 "cells": [
  {
   "cell_type": "code",
   "execution_count": 1,
   "metadata": {},
   "outputs": [],
   "source": [
    "from os.path import splitext\n",
    "from os import listdir\n",
    "from os.path import join\n",
    "import os\n",
    "import numpy as np\n",
    "from glob import glob\n",
    "import torch\n",
    "from torch.utils.data import Dataset\n",
    "import logging\n",
    "from PIL import Image\n",
    "from torchvision import transforms, utils\n",
    "import matplotlib.pyplot as plt\n",
    "import argparse"
   ]
  },
  {
   "cell_type": "code",
   "execution_count": null,
   "metadata": {},
   "outputs": [],
   "source": [
    "\n",
    "def GiveImageAndTargetLists(main_path):\n",
    "    #C:/Users/MSalehjahromi/Data_ICON/\n",
    "    CT_list = []\n",
    "    PET_list = []\n",
    "\n",
    "    CT_path_file  = main_path + \"CT_mhd_mori/\"\n",
    "    PET_path_file = main_path + \"PET_reg_mhd_Sheeba/\"\n",
    "\n",
    "    for folder_name in os.listdir(CT_path_file):\n",
    "        #print(folder_name)\n",
    "        whole_path_CT = CT_path_file + folder_name +\"/\"\n",
    "        whole_path_PET = PET_path_file + folder_name +\"/\"\n",
    "\n",
    "        if os.path.isdir(whole_path_CT) & os.path.isdir(whole_path_PET):\n",
    "            #print(whole_path_CT)\n",
    "            CT_path  = whole_path_CT + \"CT_conv.mhd\"\n",
    "            PET_path = whole_path_PET + \"result.0.mhd\"\n",
    "\n",
    "            CT_list.append(CT_path)\n",
    "            PET_list.append(PET_path)\n",
    "            \n",
    "    return (CT_list, PET_list)\n",
    "\n",
    "\n",
    "def SavingAsNpy(CT_list, PET_list, CT_Tr_path, PET_Tr_path, CT_Ts_path, PET_Ts_path, CT_Va_path,  PET_Va_path, prefix=\"\"):\n",
    "\n",
    "    count_ts = 0\n",
    "    count_tr = 0\n",
    "    count_va = 0\n",
    "    for j in range(len(CT_list)):\n",
    "\n",
    "        #print()\n",
    "\n",
    "        key = CT_list[j].split('/')[-2]\n",
    "        start_slide, end_slide = Lung[key]\n",
    "        print(j,'/',len(CT_list)-1)\n",
    "\n",
    "        if PET_list[0].split('/')[-2] == CT_list[0].split('/')[-2]:\n",
    "           \n",
    "            #Save ~9% of patients data in the test files\n",
    "            if j < len(CT_list)*0.09:\n",
    "                print('Saving', key, 'case in Test folder ...')\n",
    "                CT = sitk.ReadImage(CT_list[j])\n",
    "                dst_CT_name = \"CTPET_3D_\"+ prefix +'_'+ str(count_ts).zfill(6) + \".nii.gz\"\n",
    "                dst_CT_path = os.path.join(CT_Ts_path, dst_CT_name)\n",
    "                sitk.WriteImage(CT,dst_CT_path )\n",
    "                \n",
    "                PET = sitk.ReadImage(PET_list[j])\n",
    "                dst_PET_name = \"CTPET_3D_\"+ prefix +'_'+ str(count_ts).zfill(6) + \".nii.gz\"\n",
    "                dst_PET_path = os.path.join(PET_Ts_path, dst_PET_name)\n",
    "                sitk.WriteImage(PET,dst_PET_path )\n",
    "                               \n",
    "                count_ts += 1\n",
    "\n",
    "            elif j < len(CT_list)*0.16:\n",
    "                print( 'Saving', key, 'case in validation folder','  slides: (', start_slide,',', end_slide,')')\n",
    "                CT = io.imread(CT_list[j], plugin='simpleitk') #CT = np.array(CT)   \n",
    "                PET = io.imread(PET_list[j], plugin='simpleitk') #PET = np.array(PET)\n",
    "                \n",
    "                CT_path  = CT_Va_path\n",
    "                PET_path   = PET_Va_path\n",
    "\n",
    "                #Saving channel CT & PET images \n",
    "                for k in range(start_slide, end_slide,1):  # Removing the first and last images as they are not reliable\n",
    "\n",
    "                    CT_k = np.array( CT[k-2:k+3,:,:] )\n",
    "                    PET_k = np.array( PET[k-2:k+3,:,:] )\n",
    "\n",
    "                    dst_img_name = \"CTPET_\"+ '_'+ str(count_va).zfill(6) + \".npy\"\n",
    "                    dst_img_path = os.path.join(CT_path, dst_img_name)\n",
    "                    np.save(dst_img_path, CT_k)\n",
    "\n",
    "                    dst_label_name = \"CTPET_\"+ '_'+ str(count_va).zfill(6) + \".npy\"\n",
    "                    dst_mask_path = os.path.join(PET_path, dst_label_name)\n",
    "                    np.save(dst_mask_path, PET_k)\n",
    "                \n",
    "                    count_va += 1            \n",
    "\n",
    "            elif key in Lung:\n",
    "                print( 'Saving', key, 'case in train folder','  slides: (', start_slide,',', end_slide,')')\n",
    "                CT = io.imread(CT_list[j], plugin='simpleitk') #CT = np.array(CT)   \n",
    "                PET = io.imread(PET_list[j], plugin='simpleitk') #PET = np.array(PET)\n",
    "                \n",
    "                CT_path  = CT_Tr_path\n",
    "                PET_path   = PET_Tr_path\n",
    "\n",
    "                #Saving channel CT & PET images \n",
    "                for k in range(start_slide, end_slide,1):  # Removing the first and last images as they are not reliable\n",
    "\n",
    "                    CT_k = np.array( CT[k-2:k+3,:,:] )\n",
    "                    PET_k = np.array( PET[k-2:k+3,:,:] )\n",
    "\n",
    "                    dst_img_name = \"CTPET_\"+ prefix +'_'+ str(count_tr).zfill(6) + \".npy\"\n",
    "                    dst_img_path = os.path.join(CT_path, dst_img_name)\n",
    "                    np.save(dst_img_path, CT_k)\n",
    "\n",
    "                    dst_label_name = \"CTPET_\"+ prefix +'_'+ str(count_tr).zfill(6) + \".npy\"\n",
    "                    dst_mask_path = os.path.join(PET_path, dst_label_name)\n",
    "                    np.save(dst_mask_path, PET_k)\n",
    "                \n",
    "                    count_tr += 1\n",
    "    \n",
    "    return (count_ts, count_tr, count_va)\n",
    "\n",
    "\n",
    "if __name__=='__main__':\n",
    "\n",
    "    # Destination directory\n",
    "    main_folder = '/Data/CTtoPET/CTPET_5ChlWithSld2_ValTrainTest_lungOnly_May5'\n",
    "    os.makedirs(main_folder,exist_ok=True)\n",
    "    #if os.path.exists(nnUnet_im_lbl_folder):\n",
    "        #shutil.rmtree(nnUnet_im_lbl_folder)\n",
    "\n",
    "    # Train\n",
    "    CT_Tr_path = os.path.join(main_folder, \"CT_Tr\")\n",
    "    os.makedirs(CT_Tr_path,exist_ok=True)\n",
    "\n",
    "    PET_Tr_path = os.path.join(main_folder, \"PET_Tr\")\n",
    "    os.makedirs(PET_Tr_path,exist_ok=True)\n",
    "\n",
    "    # Val\n",
    "    CT_Va_path = os.path.join(main_folder, \"CT_Va\")\n",
    "    os.makedirs(CT_Va_path,exist_ok=True)\n",
    "\n",
    "    PET_Va_path = os.path.join(main_folder, \"PET_Va\")\n",
    "    os.makedirs(PET_Va_path,exist_ok=True)\n",
    "\n",
    "    # Test\n",
    "    CT_Ts_path = os.path.join(main_folder, \"CT_Ts\")\n",
    "    os.makedirs(CT_Ts_path,exist_ok=True)\n",
    "\n",
    "    PET_Ts_path = os.path.join(main_folder, \"PET_Ts\")\n",
    "    os.makedirs(PET_Ts_path,exist_ok=True)\n",
    "    \n",
    "\n",
    "    #Getting images_list & target_list\n",
    "    raw_dot_m_files = '/Data/CTtoPET/MainRaw/'\n",
    "    CT_list, PET_list = GiveImageAndTargetLists(raw_dot_m_files)\n",
    "    print(\"len(CT_list) & len(PET_list):\",len(CT_list),'  &  ' ,len(PET_list))\n",
    "\n",
    "    prefix = \"\"\n",
    "\n",
    "    #Let's shuffle them\n",
    "    indices = np.arange(len(CT_list))\n",
    "    np.random.shuffle(indices)\n",
    "\n",
    "    CT_list, PET_list = np.array(CT_list),  np.array(PET_list)\n",
    "\n",
    "    CT_list = CT_list[indices]\n",
    "    PET_list = PET_list[indices]\n",
    "\n",
    "    #SavingD\n",
    "    SavingAsNpy(CT_list,    PET_list,  \n",
    "                CT_Tr_path,  PET_Tr_path, \n",
    "                CT_Ts_path,  PET_Ts_path,\n",
    "                CT_Va_path,  PET_Va_path,\n",
    "                prefix=prefix)\n",
    "\n"
   ]
  },
  {
   "cell_type": "code",
   "execution_count": null,
   "metadata": {},
   "outputs": [],
   "source": [
    "if __name__ == \"__main__\":\n",
    "    args = get_args()\n",
    "    in_files = os.listdir(args.inputDir) \n",
    "    #out_files = get_output_filenames(args)\n",
    "\n",
    "    if args.loadUNet =='UNet':\n",
    "        net = UNet(n_channels=1, n_classes=1)\n",
    "    elif args.loadUNet =='UNet_AU':\n",
    "        net = UNet_AU(in_channels=5, out_channels=1)\n",
    "\n",
    "    logging.info(\"Loading model {}\".format(args.model))\n",
    "\n",
    "    device = torch.device('cuda' if torch.cuda.is_available() else 'cpu')\n",
    "    print(device)\n",
    "    logging.info(f'Using device {device}')\n",
    "    net.to(device=device)\n",
    "    net.load_state_dict(torch.load(args.model, map_location=device))\n",
    "    logging.info(\"Model loaded !\")\n",
    "\n",
    "    for i, fn in enumerate(in_files):\n",
    "        logging.info(\"\\nPredicting image {} ...\".format(fn))\n",
    "\n",
    "        full_fn = os.path.join(args.inputDir,fn)\n",
    "        whole_img = nib.load(full_fn)\n",
    "        img = whole_img.get_fdata()\n",
    "        \n",
    "    \n",
    "        PET = np.zeros(img.shape)\n",
    "            #print('Channel out of', img.shape[0]),\n",
    "        \n",
    "        # Going over all slices\n",
    "        print(i, ') Predicting PET of   ', fn)\n",
    "        for j in range(2,img.shape[2]-3):\n",
    "            print(j,'/',img.shape[2],end='     ')\n",
    "            PET[:,:,j] = predict_img(net=net,\n",
    "                           full_img=img[:,:,j-2:j+3],                         \n",
    "                           device=device)\n",
    "\n",
    "        # Saving to NIFTI    \n",
    "        os.makedirs(args.outputDir,exist_ok=True)   \n",
    "        PET = (PET*args.SUVThresh*100).astype(np.int16)\n",
    "        img_nifti = nib.Nifti1Image( PET, whole_img.affine )\n",
    "        \n",
    "        pathsplit = fn.split('.')\n",
    "        out_files = (\"{}_OUT.nii.gz\".format(pathsplit[0]))   \n",
    "        img_nifti.to_filename(os.path.join(args.outputDir,out_files))\n",
    "        \n",
    "        print('Saved!:' ,out_files)"
   ]
  },
  {
   "cell_type": "code",
   "execution_count": 17,
   "metadata": {},
   "outputs": [],
   "source": [
    "import nibabel as nib\n",
    "\n",
    "whole_img = nib.load('Pre_CT.nii.gz')\n",
    "CT = whole_img.get_fdata()\n",
    "\n",
    "seg = nib.load('Pre_Seg.nii.gz')\n",
    "seg = seg.get_fdata()\n",
    "\n",
    "Pre_CT = nib.load('Pre_CT_contrast.nii.gz')\n",
    "Pre_CT = Pre_CT.get_fdata()\n",
    "#img_NIFTI = nib.Nifti1Image(CT_new, whole_img.affine )\n",
    "#img_NIFTI.to_filename('path.nii.gz')\n",
    "\n"
   ]
  },
  {
   "cell_type": "code",
   "execution_count": 18,
   "metadata": {},
   "outputs": [
    {
     "data": {
      "text/plain": [
       "(512, 512, 402)"
      ]
     },
     "execution_count": 18,
     "metadata": {},
     "output_type": "execute_result"
    }
   ],
   "source": [
    "CT.shape"
   ]
  },
  {
   "cell_type": "code",
   "execution_count": 19,
   "metadata": {},
   "outputs": [
    {
     "data": {
      "text/plain": [
       "(512, 512, 333)"
      ]
     },
     "execution_count": 19,
     "metadata": {},
     "output_type": "execute_result"
    }
   ],
   "source": [
    "seg.shape"
   ]
  },
  {
   "cell_type": "code",
   "execution_count": 20,
   "metadata": {},
   "outputs": [
    {
     "data": {
      "text/plain": [
       "(512, 512, 333)"
      ]
     },
     "execution_count": 20,
     "metadata": {},
     "output_type": "execute_result"
    }
   ],
   "source": [
    "Pre_CT.shape"
   ]
  },
  {
   "cell_type": "code",
   "execution_count": 42,
   "metadata": {},
   "outputs": [
    {
     "name": "stdout",
     "output_type": "stream",
     "text": [
      "161\n",
      "162\n",
      "163\n",
      "164\n",
      "165\n",
      "166\n",
      "167\n",
      "168\n",
      "169\n",
      "170\n",
      "171\n",
      "172\n",
      "173\n",
      "174\n",
      "175\n",
      "176\n",
      "177\n",
      "178\n"
     ]
    },
    {
     "data": {
      "text/plain": [
       "<matplotlib.image.AxesImage at 0x23581090790>"
      ]
     },
     "execution_count": 42,
     "metadata": {},
     "output_type": "execute_result"
    },
    {
     "data": {
      "image/png": "[encoded data removed]",
      "text/plain": [
       "<Figure size 432x288 with 1 Axes>"
      ]
     },
     "metadata": {
      "needs_background": "light"
     },
     "output_type": "display_data"
    }
   ],
   "source": [
    "\n",
    "for k in range(seg.shape[2]):\n",
    "    a = seg[:,:,k].reshape(512*512)\n",
    "    #print(k , '   ', a.max())\n",
    "    if a.max() != 0.0:\n",
    "        print(k)\n",
    "plt.imshow(seg[:,:,170])"
   ]
  },
  {
   "cell_type": "code",
   "execution_count": 22,
   "metadata": {},
   "outputs": [
    {
     "data": {
      "text/plain": [
       "array([0., 0., 0., ..., 0., 0., 0.])"
      ]
     },
     "execution_count": 22,
     "metadata": {},
     "output_type": "execute_result"
    }
   ],
   "source": [
    "np.reshape(seg[:,:,100],(512*512))"
   ]
  },
  {
   "cell_type": "code",
   "execution_count": 15,
   "metadata": {},
   "outputs": [
    {
     "ename": "TypeError",
     "evalue": "Cannot slice image objects; consider using `img.slicer[slice]` to generate a sliced image (see documentation for caveats) or slicing image array data with `img.dataobj[slice]` or `img.get_fdata()[slice]`",
     "output_type": "error",
     "traceback": [
      "\u001b[1;31m---------------------------------------------------------------------------\u001b[0m",
      "\u001b[1;31mTypeError\u001b[0m                                 Traceback (most recent call last)",
      "\u001b[1;32m<ipython-input-15-39154dd80fc0>\u001b[0m in \u001b[0;36m<module>\u001b[1;34m\u001b[0m\n\u001b[1;32m----> 1\u001b[1;33m \u001b[0mseg\u001b[0m\u001b[1;33m[\u001b[0m\u001b[1;33m:\u001b[0m\u001b[1;33m,\u001b[0m\u001b[1;33m:\u001b[0m\u001b[1;33m,\u001b[0m\u001b[1;36m100\u001b[0m\u001b[1;33m]\u001b[0m\u001b[1;33m\u001b[0m\u001b[1;33m\u001b[0m\u001b[0m\n\u001b[0m",
      "\u001b[1;32m~\\Programs\\Anaconda3\\lib\\site-packages\\nibabel\\spatialimages.py\u001b[0m in \u001b[0;36m__getitem__\u001b[1;34m(self, idx)\u001b[0m\n\u001b[0;32m    584\u001b[0m         \u001b[0mown\u001b[0m \u001b[0mrisk\u001b[0m\u001b[1;33m.\u001b[0m\u001b[1;33m\u001b[0m\u001b[1;33m\u001b[0m\u001b[0m\n\u001b[0;32m    585\u001b[0m         \"\"\"\n\u001b[1;32m--> 586\u001b[1;33m         raise TypeError(\n\u001b[0m\u001b[0;32m    587\u001b[0m             \u001b[1;34m\"Cannot slice image objects; consider using `img.slicer[slice]` \"\u001b[0m\u001b[1;33m\u001b[0m\u001b[1;33m\u001b[0m\u001b[0m\n\u001b[0;32m    588\u001b[0m             \u001b[1;34m\"to generate a sliced image (see documentation for caveats) or \"\u001b[0m\u001b[1;33m\u001b[0m\u001b[1;33m\u001b[0m\u001b[0m\n",
      "\u001b[1;31mTypeError\u001b[0m: Cannot slice image objects; consider using `img.slicer[slice]` to generate a sliced image (see documentation for caveats) or slicing image array data with `img.dataobj[slice]` or `img.get_fdata()[slice]`"
     ]
    }
   ],
   "source": [
    "seg[:,:,100]"
   ]
  },
  {
   "cell_type": "code",
   "execution_count": 16,
   "metadata": {},
   "outputs": [
    {
     "data": {
      "text/plain": [
       "(512, 512, 333)"
      ]
     },
     "execution_count": 16,
     "metadata": {},
     "output_type": "execute_result"
    }
   ],
   "source": [
    "seg.shape"
   ]
  },
  {
   "cell_type": "code",
   "execution_count": 25,
   "metadata": {},
   "outputs": [
    {
     "data": {
      "text/plain": [
       "0.0"
      ]
     },
     "execution_count": 25,
     "metadata": {},
     "output_type": "execute_result"
    }
   ],
   "source": [
    "a.max()"
   ]
  },
  {
   "cell_type": "code",
   "execution_count": 32,
   "metadata": {},
   "outputs": [],
   "source": [
    "if seg.max() == 0:\n",
    "    print('hihi')"
   ]
  },
  {
   "cell_type": "code",
   "execution_count": 39,
   "metadata": {},
   "outputs": [
    {
     "name": "stdout",
     "output_type": "stream",
     "text": [
      "hi\n"
     ]
    }
   ],
   "source": [
    "if a.max != 0.0:\n",
    "    print('hi')"
   ]
  },
  {
   "cell_type": "code",
   "execution_count": 45,
   "metadata": {},
   "outputs": [
    {
     "data": {
      "text/plain": [
       "0"
      ]
     },
     "execution_count": 45,
     "metadata": {},
     "output_type": "execute_result"
    }
   ],
   "source": [
    "5%5"
   ]
  },
  {
   "cell_type": "code",
   "execution_count": null,
   "metadata": {},
   "outputs": [],
   "source": []
  }
 ],
 "metadata": {
  "kernelspec": {
   "display_name": "Python 3",
   "language": "python",
   "name": "python3"
  },
  "language_info": {
   "codemirror_mode": {
    "name": "ipython",
    "version": 3
   },
   "file_extension": ".py",
   "mimetype": "text/x-python",
   "name": "python",
   "nbconvert_exporter": "python",
   "pygments_lexer": "ipython3",
   "version": "3.8.5"
  }
 },
 "nbformat": 4,
 "nbformat_minor": 4
}
